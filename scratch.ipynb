{
 "cells": [
  {
   "cell_type": "code",
   "execution_count": 6,
   "metadata": {},
   "outputs": [
    {
     "name": "stdout",
     "output_type": "stream",
     "text": [
      "8, 19, 18, 33, 21, 3, 11, 29, 1, 27, 13, 9, 12, 4, 22, 17, 7, 31, 28, 23, 24, 34, 14, 16, 6, 25, 0, 30, 2, 15, 20, 5, 10, 26, 32, "
     ]
    }
   ],
   "source": [
    "s = \"8 19 18 33 21 3 11 29 1 27 13 9 12 4 22 17 7 31 28 23 24 34 14 16 6 25 0 30 2 15 20 5 10 26 32\"\n",
    "[print(b, end=\", \") for b in s.split(\" \")]\n",
    "None"
   ]
  },
  {
   "cell_type": "code",
   "execution_count": null,
   "metadata": {},
   "outputs": [],
   "source": [
    "8, 19, 18, 33, 21, 3, 11, 29, 1, 27, 13, 9, 12, 4, 22, 17, 7, 31, 28, 23, 24, 34, 14, 16, 6, 25, 0, 30, 2, 15, 20, 5, 10, 26, 32, "
   ]
  },
  {
   "cell_type": "code",
   "execution_count": 8,
   "metadata": {},
   "outputs": [],
   "source": [
    "x = [8, 19, 18, 33, 21, 3, 11, 29, 1, 27, 13, 9, 12, 4, 22, 17, 7, 31, 28, 23, 24, 34, 14, 16, 6, 25, 0, 30, 2, 15, 20, 5, 10, 26, 32]"
   ]
  },
  {
   "cell_type": "code",
   "execution_count": 20,
   "metadata": {},
   "outputs": [],
   "source": [
    "d = dict(zip(x, range(len(x))))"
   ]
  },
  {
   "cell_type": "code",
   "execution_count": 21,
   "metadata": {},
   "outputs": [
    {
     "data": {
      "text/plain": [
       "0"
      ]
     },
     "execution_count": 21,
     "metadata": {},
     "output_type": "execute_result"
    }
   ],
   "source": [
    "d[8]"
   ]
  },
  {
   "cell_type": "code",
   "execution_count": null,
   "metadata": {},
   "outputs": [],
   "source": []
  }
 ],
 "metadata": {
  "kernelspec": {
   "display_name": "FaceFilters",
   "language": "python",
   "name": "python3"
  },
  "language_info": {
   "codemirror_mode": {
    "name": "ipython",
    "version": 3
   },
   "file_extension": ".py",
   "mimetype": "text/x-python",
   "name": "python",
   "nbconvert_exporter": "python",
   "pygments_lexer": "ipython3",
   "version": "3.12.3"
  }
 },
 "nbformat": 4,
 "nbformat_minor": 2
}
